{
 "cells": [
  {
   "cell_type": "code",
   "execution_count": 4,
   "metadata": {},
   "outputs": [],
   "source": [
    "import PyPDF2\n",
    "import sys\n",
    "\n",
    "def crop_pdf(input, output):\n",
    "\n",
    "  with open(input, \"rb\") as input_pdf:\n",
    "    reader = PyPDF2.PdfReader(input_pdf)\n",
    "    writer = PyPDF2.PdfWriter()\n",
    "\n",
    "    for page in reader.pages:\n",
    "      \n",
    "      width = page.mediabox.width\n",
    "      height = page.mediabox.height\n",
    "      \n",
    "      page1 = (height / 2, width / 2, height, 0)\n",
    "      page2 = (height / 2, width, height, width / 2)\n",
    "      page3 = (0, width / 2, height / 2, 0)\n",
    "      page4 = (0, width, height / 2, width / 2)\n",
    "\n",
    "      pages = [page1, page2, page3, page4]\n",
    "\n",
    "      for coords in pages:\n",
    "        page.cropbox.top = coords[0]\n",
    "        page.cropbox.right = coords[1]\n",
    "        page.cropbox.bottom = coords[2]\n",
    "        page.cropbox.left = coords[3]\n",
    "        writer.add_page(page) \n",
    "\n",
    "    with open(output, \"wb\") as output_pdf:\n",
    "      writer.write(output_pdf)\n",
    "\n",
    "#input = sys.argv[1]\n",
    "#output = sys.argv[2]\n",
    "#print(\"Cropping\", input, \"to\", output)\n",
    "\n",
    "crop_pdf(\"slide.pdf\", \"newpdf.pdf\")"
   ]
  }
 ],
 "metadata": {
  "kernelspec": {
   "display_name": "base",
   "language": "python",
   "name": "python3"
  },
  "language_info": {
   "codemirror_mode": {
    "name": "ipython",
    "version": 3
   },
   "file_extension": ".py",
   "mimetype": "text/x-python",
   "name": "python",
   "nbconvert_exporter": "python",
   "pygments_lexer": "ipython3",
   "version": "3.9.13"
  },
  "orig_nbformat": 4
 },
 "nbformat": 4,
 "nbformat_minor": 2
}
